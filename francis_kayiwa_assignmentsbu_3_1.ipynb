{
  "nbformat": 4,
  "nbformat_minor": 0,
  "metadata": {
    "colab": {
      "name": "francis_kayiwa_assignmentsbu_3_1.ipynb",
      "provenance": [],
      "authorship_tag": "ABX9TyO+sp5itVnGGrfeD4Nb5y4M",
      "include_colab_link": true
    },
    "kernelspec": {
      "name": "python3",
      "display_name": "Python 3"
    },
    "language_info": {
      "name": "python"
    }
  },
  "cells": [
    {
      "cell_type": "markdown",
      "metadata": {
        "id": "view-in-github",
        "colab_type": "text"
      },
      "source": [
        "<a href=\"https://colab.research.google.com/github/kayiwa/SBU_Data_Mining/blob/main/francis_kayiwa_assignmentsbu_3_1.ipynb\" target=\"_parent\"><img src=\"https://colab.research.google.com/assets/colab-badge.svg\" alt=\"Open In Colab\"/></a>"
      ]
    },
    {
      "cell_type": "code",
      "metadata": {
        "colab": {
          "base_uri": "https://localhost:8080/",
          "height": 424
        },
        "id": "Db_prxXO6Moq",
        "outputId": "c0126ccf-dc6a-44bd-c9db-a5b02554b5c7"
      },
      "source": [
        "#import the useful libraries. (yank and paste from tutorial)\n",
        "import numpy as np\n",
        "import pandas as pd\n",
        "import seaborn as sns\n",
        "import matplotlib.pyplot as plt\n",
        "%matplotlib inline\n",
        "# this is dangerous but will do\n",
        "data= pd.read_csv(\"https://raw.githubusercontent.com/kayiwa/SBU_Data_Mining/main/Week%202/Assignment%202.1/malware.csv\")\n",
        "# remove occurences of NaN in the dataset\n",
        "data.drop(data.filter(regex=\"Unnamed\"),axis=1, inplace=True)\n",
        "data.drop(data.filter(regex=\"source_app_packets.1\"),axis=1, inplace=True)\n",
        "data = data.rename(columns={'vulume_bytes': 'volume_bytes'})\n",
        "data = data[~data.name.isnull()].copy()\n",
        "data = data[~data.tcp_packets.isnull()].copy()\n",
        "data = data[~data.dist_port_tcp.isnull()].copy()\n",
        "data = data[~data.volume_bytes.isnull()].copy()\n",
        "data = data[~data.udp_packets.isnull()].copy()\n",
        "data = data[~data.external_ips.isnull()].copy()\n",
        "data = data[~data.tcp_urg_packet.isnull()].copy()\n",
        "data = data[~data.source_app_packets.isnull()].copy()\n",
        "data = data[~data.remote_app_packets.isnull()].copy()\n",
        "data = data[~data.source_app_bytes.isnull()].copy()\n",
        "data = data[~data.remote_app_bytes.isnull()].copy()\n",
        "data = data[~data.dns_query_times.isnull()].copy()\n",
        "data = data[~data.type.isnull()].copy()\n",
        "data.isnull().sum()\n",
        "# show us the data\n",
        "data"
      ],
      "execution_count": 2,
      "outputs": [
        {
          "output_type": "execute_result",
          "data": {
            "text/html": [
              "<div>\n",
              "<style scoped>\n",
              "    .dataframe tbody tr th:only-of-type {\n",
              "        vertical-align: middle;\n",
              "    }\n",
              "\n",
              "    .dataframe tbody tr th {\n",
              "        vertical-align: top;\n",
              "    }\n",
              "\n",
              "    .dataframe thead th {\n",
              "        text-align: right;\n",
              "    }\n",
              "</style>\n",
              "<table border=\"1\" class=\"dataframe\">\n",
              "  <thead>\n",
              "    <tr style=\"text-align: right;\">\n",
              "      <th></th>\n",
              "      <th>name</th>\n",
              "      <th>tcp_packets</th>\n",
              "      <th>dist_port_tcp</th>\n",
              "      <th>external_ips</th>\n",
              "      <th>volume_bytes</th>\n",
              "      <th>udp_packets</th>\n",
              "      <th>tcp_urg_packet</th>\n",
              "      <th>source_app_packets</th>\n",
              "      <th>remote_app_packets</th>\n",
              "      <th>source_app_bytes</th>\n",
              "      <th>remote_app_bytes</th>\n",
              "      <th>dns_query_times</th>\n",
              "      <th>type</th>\n",
              "    </tr>\n",
              "  </thead>\n",
              "  <tbody>\n",
              "    <tr>\n",
              "      <th>0</th>\n",
              "      <td>AntiVirus</td>\n",
              "      <td>36.0</td>\n",
              "      <td>6.0</td>\n",
              "      <td>3.0</td>\n",
              "      <td>3911.0</td>\n",
              "      <td>0.0</td>\n",
              "      <td>0.0</td>\n",
              "      <td>39.0</td>\n",
              "      <td>33.0</td>\n",
              "      <td>5100.0</td>\n",
              "      <td>4140.0</td>\n",
              "      <td>3.0</td>\n",
              "      <td>benign</td>\n",
              "    </tr>\n",
              "    <tr>\n",
              "      <th>2</th>\n",
              "      <td>AntiVirus</td>\n",
              "      <td>196.0</td>\n",
              "      <td>0.0</td>\n",
              "      <td>6.0</td>\n",
              "      <td>24151.0</td>\n",
              "      <td>0.0</td>\n",
              "      <td>0.0</td>\n",
              "      <td>205.0</td>\n",
              "      <td>214.0</td>\n",
              "      <td>163887.0</td>\n",
              "      <td>24867.0</td>\n",
              "      <td>9.0</td>\n",
              "      <td>benign</td>\n",
              "    </tr>\n",
              "    <tr>\n",
              "      <th>3</th>\n",
              "      <td>AntiVirus</td>\n",
              "      <td>6.0</td>\n",
              "      <td>0.0</td>\n",
              "      <td>1.0</td>\n",
              "      <td>889.0</td>\n",
              "      <td>0.0</td>\n",
              "      <td>0.0</td>\n",
              "      <td>7.0</td>\n",
              "      <td>6.0</td>\n",
              "      <td>819.0</td>\n",
              "      <td>975.0</td>\n",
              "      <td>1.0</td>\n",
              "      <td>benign</td>\n",
              "    </tr>\n",
              "    <tr>\n",
              "      <th>4</th>\n",
              "      <td>AntiVirus</td>\n",
              "      <td>6.0</td>\n",
              "      <td>0.0</td>\n",
              "      <td>1.0</td>\n",
              "      <td>882.0</td>\n",
              "      <td>0.0</td>\n",
              "      <td>0.0</td>\n",
              "      <td>7.0</td>\n",
              "      <td>6.0</td>\n",
              "      <td>819.0</td>\n",
              "      <td>968.0</td>\n",
              "      <td>1.0</td>\n",
              "      <td>benign</td>\n",
              "    </tr>\n",
              "    <tr>\n",
              "      <th>5</th>\n",
              "      <td>AntiVirus</td>\n",
              "      <td>54.0</td>\n",
              "      <td>54.0</td>\n",
              "      <td>3.0</td>\n",
              "      <td>5062.0</td>\n",
              "      <td>0.0</td>\n",
              "      <td>0.0</td>\n",
              "      <td>63.0</td>\n",
              "      <td>54.0</td>\n",
              "      <td>5457.0</td>\n",
              "      <td>5719.0</td>\n",
              "      <td>9.0</td>\n",
              "      <td>benign</td>\n",
              "    </tr>\n",
              "    <tr>\n",
              "      <th>...</th>\n",
              "      <td>...</td>\n",
              "      <td>...</td>\n",
              "      <td>...</td>\n",
              "      <td>...</td>\n",
              "      <td>...</td>\n",
              "      <td>...</td>\n",
              "      <td>...</td>\n",
              "      <td>...</td>\n",
              "      <td>...</td>\n",
              "      <td>...</td>\n",
              "      <td>...</td>\n",
              "      <td>...</td>\n",
              "      <td>...</td>\n",
              "    </tr>\n",
              "    <tr>\n",
              "      <th>7835</th>\n",
              "      <td>Zitmo</td>\n",
              "      <td>0.0</td>\n",
              "      <td>0.0</td>\n",
              "      <td>0.0</td>\n",
              "      <td>0.0</td>\n",
              "      <td>0.0</td>\n",
              "      <td>0.0</td>\n",
              "      <td>1.0</td>\n",
              "      <td>1.0</td>\n",
              "      <td>147.0</td>\n",
              "      <td>74.0</td>\n",
              "      <td>1.0</td>\n",
              "      <td>malicious</td>\n",
              "    </tr>\n",
              "    <tr>\n",
              "      <th>7838</th>\n",
              "      <td>Zsone</td>\n",
              "      <td>0.0</td>\n",
              "      <td>0.0</td>\n",
              "      <td>0.0</td>\n",
              "      <td>0.0</td>\n",
              "      <td>0.0</td>\n",
              "      <td>0.0</td>\n",
              "      <td>2.0</td>\n",
              "      <td>2.0</td>\n",
              "      <td>257.0</td>\n",
              "      <td>143.0</td>\n",
              "      <td>2.0</td>\n",
              "      <td>malicious</td>\n",
              "    </tr>\n",
              "    <tr>\n",
              "      <th>7840</th>\n",
              "      <td>Zsone</td>\n",
              "      <td>0.0</td>\n",
              "      <td>0.0</td>\n",
              "      <td>0.0</td>\n",
              "      <td>0.0</td>\n",
              "      <td>0.0</td>\n",
              "      <td>0.0</td>\n",
              "      <td>2.0</td>\n",
              "      <td>2.0</td>\n",
              "      <td>257.0</td>\n",
              "      <td>143.0</td>\n",
              "      <td>2.0</td>\n",
              "      <td>malicious</td>\n",
              "    </tr>\n",
              "    <tr>\n",
              "      <th>7842</th>\n",
              "      <td>Zsone</td>\n",
              "      <td>0.0</td>\n",
              "      <td>0.0</td>\n",
              "      <td>0.0</td>\n",
              "      <td>0.0</td>\n",
              "      <td>0.0</td>\n",
              "      <td>0.0</td>\n",
              "      <td>2.0</td>\n",
              "      <td>2.0</td>\n",
              "      <td>257.0</td>\n",
              "      <td>143.0</td>\n",
              "      <td>2.0</td>\n",
              "      <td>malicious</td>\n",
              "    </tr>\n",
              "    <tr>\n",
              "      <th>7844</th>\n",
              "      <td>Zsone</td>\n",
              "      <td>0.0</td>\n",
              "      <td>0.0</td>\n",
              "      <td>0.0</td>\n",
              "      <td>0.0</td>\n",
              "      <td>0.0</td>\n",
              "      <td>0.0</td>\n",
              "      <td>2.0</td>\n",
              "      <td>2.0</td>\n",
              "      <td>257.0</td>\n",
              "      <td>143.0</td>\n",
              "      <td>2.0</td>\n",
              "      <td>malicious</td>\n",
              "    </tr>\n",
              "  </tbody>\n",
              "</table>\n",
              "<p>4876 rows × 13 columns</p>\n",
              "</div>"
            ],
            "text/plain": [
              "           name  tcp_packets  ...  dns_query_times       type\n",
              "0     AntiVirus         36.0  ...              3.0     benign\n",
              "2     AntiVirus        196.0  ...              9.0     benign\n",
              "3     AntiVirus          6.0  ...              1.0     benign\n",
              "4     AntiVirus          6.0  ...              1.0     benign\n",
              "5     AntiVirus         54.0  ...              9.0     benign\n",
              "...         ...          ...  ...              ...        ...\n",
              "7835      Zitmo          0.0  ...              1.0  malicious\n",
              "7838      Zsone          0.0  ...              2.0  malicious\n",
              "7840      Zsone          0.0  ...              2.0  malicious\n",
              "7842      Zsone          0.0  ...              2.0  malicious\n",
              "7844      Zsone          0.0  ...              2.0  malicious\n",
              "\n",
              "[4876 rows x 13 columns]"
            ]
          },
          "metadata": {},
          "execution_count": 2
        }
      ]
    },
    {
      "cell_type": "code",
      "metadata": {
        "colab": {
          "base_uri": "https://localhost:8080/",
          "height": 424
        },
        "id": "nt5o7IehyXcL",
        "outputId": "2b3ad58b-5f14-4a2c-fcd3-6202bf54c83d"
      },
      "source": [
        "# import preprocessing from sklearn to convert type and name to numbers that we can work with. \n",
        "from sklearn import preprocessing\n",
        "label_enc = preprocessing.LabelEncoder()\n",
        "data_2 = data.apply(label_enc.fit_transform)\n",
        "data_2"
      ],
      "execution_count": 3,
      "outputs": [
        {
          "output_type": "execute_result",
          "data": {
            "text/html": [
              "<div>\n",
              "<style scoped>\n",
              "    .dataframe tbody tr th:only-of-type {\n",
              "        vertical-align: middle;\n",
              "    }\n",
              "\n",
              "    .dataframe tbody tr th {\n",
              "        vertical-align: top;\n",
              "    }\n",
              "\n",
              "    .dataframe thead th {\n",
              "        text-align: right;\n",
              "    }\n",
              "</style>\n",
              "<table border=\"1\" class=\"dataframe\">\n",
              "  <thead>\n",
              "    <tr style=\"text-align: right;\">\n",
              "      <th></th>\n",
              "      <th>name</th>\n",
              "      <th>tcp_packets</th>\n",
              "      <th>dist_port_tcp</th>\n",
              "      <th>external_ips</th>\n",
              "      <th>volume_bytes</th>\n",
              "      <th>udp_packets</th>\n",
              "      <th>tcp_urg_packet</th>\n",
              "      <th>source_app_packets</th>\n",
              "      <th>remote_app_packets</th>\n",
              "      <th>source_app_bytes</th>\n",
              "      <th>remote_app_bytes</th>\n",
              "      <th>dns_query_times</th>\n",
              "      <th>type</th>\n",
              "    </tr>\n",
              "  </thead>\n",
              "  <tbody>\n",
              "    <tr>\n",
              "      <th>0</th>\n",
              "      <td>5</td>\n",
              "      <td>36</td>\n",
              "      <td>6</td>\n",
              "      <td>3</td>\n",
              "      <td>950</td>\n",
              "      <td>0</td>\n",
              "      <td>0</td>\n",
              "      <td>38</td>\n",
              "      <td>33</td>\n",
              "      <td>1098</td>\n",
              "      <td>1089</td>\n",
              "      <td>3</td>\n",
              "      <td>0</td>\n",
              "    </tr>\n",
              "    <tr>\n",
              "      <th>2</th>\n",
              "      <td>5</td>\n",
              "      <td>195</td>\n",
              "      <td>0</td>\n",
              "      <td>6</td>\n",
              "      <td>2460</td>\n",
              "      <td>0</td>\n",
              "      <td>0</td>\n",
              "      <td>204</td>\n",
              "      <td>211</td>\n",
              "      <td>2496</td>\n",
              "      <td>2648</td>\n",
              "      <td>9</td>\n",
              "      <td>0</td>\n",
              "    </tr>\n",
              "    <tr>\n",
              "      <th>3</th>\n",
              "      <td>5</td>\n",
              "      <td>6</td>\n",
              "      <td>0</td>\n",
              "      <td>1</td>\n",
              "      <td>185</td>\n",
              "      <td>0</td>\n",
              "      <td>0</td>\n",
              "      <td>6</td>\n",
              "      <td>6</td>\n",
              "      <td>229</td>\n",
              "      <td>271</td>\n",
              "      <td>1</td>\n",
              "      <td>0</td>\n",
              "    </tr>\n",
              "    <tr>\n",
              "      <th>4</th>\n",
              "      <td>5</td>\n",
              "      <td>6</td>\n",
              "      <td>0</td>\n",
              "      <td>1</td>\n",
              "      <td>180</td>\n",
              "      <td>0</td>\n",
              "      <td>0</td>\n",
              "      <td>6</td>\n",
              "      <td>6</td>\n",
              "      <td>229</td>\n",
              "      <td>265</td>\n",
              "      <td>1</td>\n",
              "      <td>0</td>\n",
              "    </tr>\n",
              "    <tr>\n",
              "      <th>5</th>\n",
              "      <td>5</td>\n",
              "      <td>54</td>\n",
              "      <td>53</td>\n",
              "      <td>3</td>\n",
              "      <td>1143</td>\n",
              "      <td>0</td>\n",
              "      <td>0</td>\n",
              "      <td>62</td>\n",
              "      <td>54</td>\n",
              "      <td>1146</td>\n",
              "      <td>1341</td>\n",
              "      <td>9</td>\n",
              "      <td>0</td>\n",
              "    </tr>\n",
              "    <tr>\n",
              "      <th>...</th>\n",
              "      <td>...</td>\n",
              "      <td>...</td>\n",
              "      <td>...</td>\n",
              "      <td>...</td>\n",
              "      <td>...</td>\n",
              "      <td>...</td>\n",
              "      <td>...</td>\n",
              "      <td>...</td>\n",
              "      <td>...</td>\n",
              "      <td>...</td>\n",
              "      <td>...</td>\n",
              "      <td>...</td>\n",
              "      <td>...</td>\n",
              "    </tr>\n",
              "    <tr>\n",
              "      <th>7835</th>\n",
              "      <td>97</td>\n",
              "      <td>0</td>\n",
              "      <td>0</td>\n",
              "      <td>0</td>\n",
              "      <td>0</td>\n",
              "      <td>0</td>\n",
              "      <td>0</td>\n",
              "      <td>0</td>\n",
              "      <td>1</td>\n",
              "      <td>27</td>\n",
              "      <td>5</td>\n",
              "      <td>1</td>\n",
              "      <td>1</td>\n",
              "    </tr>\n",
              "    <tr>\n",
              "      <th>7838</th>\n",
              "      <td>98</td>\n",
              "      <td>0</td>\n",
              "      <td>0</td>\n",
              "      <td>0</td>\n",
              "      <td>0</td>\n",
              "      <td>0</td>\n",
              "      <td>0</td>\n",
              "      <td>1</td>\n",
              "      <td>2</td>\n",
              "      <td>61</td>\n",
              "      <td>22</td>\n",
              "      <td>2</td>\n",
              "      <td>1</td>\n",
              "    </tr>\n",
              "    <tr>\n",
              "      <th>7840</th>\n",
              "      <td>98</td>\n",
              "      <td>0</td>\n",
              "      <td>0</td>\n",
              "      <td>0</td>\n",
              "      <td>0</td>\n",
              "      <td>0</td>\n",
              "      <td>0</td>\n",
              "      <td>1</td>\n",
              "      <td>2</td>\n",
              "      <td>61</td>\n",
              "      <td>22</td>\n",
              "      <td>2</td>\n",
              "      <td>1</td>\n",
              "    </tr>\n",
              "    <tr>\n",
              "      <th>7842</th>\n",
              "      <td>98</td>\n",
              "      <td>0</td>\n",
              "      <td>0</td>\n",
              "      <td>0</td>\n",
              "      <td>0</td>\n",
              "      <td>0</td>\n",
              "      <td>0</td>\n",
              "      <td>1</td>\n",
              "      <td>2</td>\n",
              "      <td>61</td>\n",
              "      <td>22</td>\n",
              "      <td>2</td>\n",
              "      <td>1</td>\n",
              "    </tr>\n",
              "    <tr>\n",
              "      <th>7844</th>\n",
              "      <td>98</td>\n",
              "      <td>0</td>\n",
              "      <td>0</td>\n",
              "      <td>0</td>\n",
              "      <td>0</td>\n",
              "      <td>0</td>\n",
              "      <td>0</td>\n",
              "      <td>1</td>\n",
              "      <td>2</td>\n",
              "      <td>61</td>\n",
              "      <td>22</td>\n",
              "      <td>2</td>\n",
              "      <td>1</td>\n",
              "    </tr>\n",
              "  </tbody>\n",
              "</table>\n",
              "<p>4876 rows × 13 columns</p>\n",
              "</div>"
            ],
            "text/plain": [
              "      name  tcp_packets  dist_port_tcp  ...  remote_app_bytes  dns_query_times  type\n",
              "0        5           36              6  ...              1089                3     0\n",
              "2        5          195              0  ...              2648                9     0\n",
              "3        5            6              0  ...               271                1     0\n",
              "4        5            6              0  ...               265                1     0\n",
              "5        5           54             53  ...              1341                9     0\n",
              "...    ...          ...            ...  ...               ...              ...   ...\n",
              "7835    97            0              0  ...                 5                1     1\n",
              "7838    98            0              0  ...                22                2     1\n",
              "7840    98            0              0  ...                22                2     1\n",
              "7842    98            0              0  ...                22                2     1\n",
              "7844    98            0              0  ...                22                2     1\n",
              "\n",
              "[4876 rows x 13 columns]"
            ]
          },
          "metadata": {},
          "execution_count": 3
        }
      ]
    },
    {
      "cell_type": "code",
      "metadata": {
        "colab": {
          "base_uri": "https://localhost:8080/"
        },
        "id": "we6DS88BaEcW",
        "outputId": "b09b8501-1848-486e-eb3d-8eed2183cc6a"
      },
      "source": [
        "# print the column names\n",
        "data_2.columns"
      ],
      "execution_count": 4,
      "outputs": [
        {
          "output_type": "execute_result",
          "data": {
            "text/plain": [
              "Index(['name', 'tcp_packets', 'dist_port_tcp', 'external_ips', 'volume_bytes',\n",
              "       'udp_packets', 'tcp_urg_packet', 'source_app_packets',\n",
              "       'remote_app_packets', 'source_app_bytes', 'remote_app_bytes',\n",
              "       'dns_query_times', 'type'],\n",
              "      dtype='object')"
            ]
          },
          "metadata": {},
          "execution_count": 4
        }
      ]
    },
    {
      "cell_type": "code",
      "metadata": {
        "id": "quZBu017ah3Y"
      },
      "source": [
        "# define X and Y\n",
        "feature_cols = ['tcp_packets', 'external_ips', 'volume_bytes', 'source_app_packets', 'remote_app_packets', 'source_app_bytes', 'remote_app_bytes', 'dns_query_times']\n",
        "X = data_2[feature_cols]\n",
        "Y = data_2.type"
      ],
      "execution_count": 6,
      "outputs": []
    },
    {
      "cell_type": "code",
      "metadata": {
        "id": "ZoI6G-SMbQOb"
      },
      "source": [
        "# split X and y into training and testing sets\n",
        "from sklearn.model_selection import train_test_split\n",
        "X_train, X_test, Y_train, Y_test = train_test_split(X, Y, random_state=0)"
      ],
      "execution_count": 7,
      "outputs": []
    },
    {
      "cell_type": "code",
      "metadata": {
        "colab": {
          "base_uri": "https://localhost:8080/"
        },
        "id": "W7QA0zr6bWIW",
        "outputId": "07492a97-17ea-44ff-8172-8159681100af"
      },
      "source": [
        "# train a logistic regression model on the training set\n",
        "# the fit step allows the learn the relationship between X_train and Y_train\n",
        "from sklearn.linear_model import LogisticRegression\n",
        "logreg = LogisticRegression(solver='liblinear')\n",
        "logreg.fit(X_train, Y_train)"
      ],
      "execution_count": 8,
      "outputs": [
        {
          "output_type": "execute_result",
          "data": {
            "text/plain": [
              "LogisticRegression(C=1.0, class_weight=None, dual=False, fit_intercept=True,\n",
              "                   intercept_scaling=1, l1_ratio=None, max_iter=100,\n",
              "                   multi_class='auto', n_jobs=None, penalty='l2',\n",
              "                   random_state=None, solver='liblinear', tol=0.0001, verbose=0,\n",
              "                   warm_start=False)"
            ]
          },
          "metadata": {},
          "execution_count": 8
        }
      ]
    },
    {
      "cell_type": "code",
      "metadata": {
        "id": "15GTbYuDbamO"
      },
      "source": [
        "# make class predictions for the testing set\n",
        "y_prediction_class = logreg.predict(X_test)"
      ],
      "execution_count": 9,
      "outputs": []
    },
    {
      "cell_type": "code",
      "metadata": {
        "colab": {
          "base_uri": "https://localhost:8080/"
        },
        "id": "d0KoJqYDbht4",
        "outputId": "cd35e208-35a8-4983-c315-4cec05dc623e"
      },
      "source": [
        "# calculate accuracy of predictions\n",
        "from sklearn import metrics\n",
        "print(metrics.accuracy_score(Y_test, y_prediction_class))"
      ],
      "execution_count": 11,
      "outputs": [
        {
          "output_type": "stream",
          "name": "stdout",
          "text": [
            "0.7063166529942576\n"
          ]
        }
      ]
    },
    {
      "cell_type": "markdown",
      "metadata": {
        "id": "2srMfhV4b1JC"
      },
      "source": [
        "\n",
        "**Null accuracy:** accuracy that could be achieved by always predicting the most frequent class in the testing set. This will give us confidence in the 71% prediction. "
      ]
    },
    {
      "cell_type": "code",
      "metadata": {
        "colab": {
          "base_uri": "https://localhost:8080/"
        },
        "id": "Uttkh6a0blh3",
        "outputId": "aedca13a-4e71-4328-8b4c-e2bb39cbe3b0"
      },
      "source": [
        "# evaluate class distribution of the testing set (in pandas we can count occurences of each value in the series)\n",
        "Y_test.value_counts()"
      ],
      "execution_count": 12,
      "outputs": [
        {
          "output_type": "execute_result",
          "data": {
            "text/plain": [
              "0    720\n",
              "1    499\n",
              "Name: type, dtype: int64"
            ]
          },
          "metadata": {},
          "execution_count": 12
        }
      ]
    },
    {
      "cell_type": "code",
      "metadata": {
        "colab": {
          "base_uri": "https://localhost:8080/"
        },
        "id": "SKjiyIP0cJMw",
        "outputId": "5d2b0b0c-94f8-4f31-9e9f-972e4e1357ce"
      },
      "source": [
        "# calculate the percentage of ones vs zeros \n",
        "Y_test.mean()"
      ],
      "execution_count": 13,
      "outputs": [
        {
          "output_type": "execute_result",
          "data": {
            "text/plain": [
              "0.40935192780968005"
            ]
          },
          "metadata": {},
          "execution_count": 13
        }
      ]
    },
    {
      "cell_type": "code",
      "metadata": {
        "colab": {
          "base_uri": "https://localhost:8080/"
        },
        "id": "5-TRquBAe4DQ",
        "outputId": "4e4b26bf-f982-4e9e-fabc-b445baebd4d7"
      },
      "source": [
        "# calculate the percentage of zeros\n",
        "1 - Y_test.mean()"
      ],
      "execution_count": 14,
      "outputs": [
        {
          "output_type": "execute_result",
          "data": {
            "text/plain": [
              "0.59064807219032"
            ]
          },
          "metadata": {},
          "execution_count": 14
        }
      ]
    },
    {
      "cell_type": "code",
      "metadata": {
        "colab": {
          "base_uri": "https://localhost:8080/"
        },
        "id": "bNvX-XE3e-bu",
        "outputId": "f41345fb-0870-41df-9a5b-5f5713694345"
      },
      "source": [
        "# calculate null accuracy (for binary classification problems coded as 0/1)\n",
        "max(Y_test.mean(), 1 - Y_test.mean())"
      ],
      "execution_count": 15,
      "outputs": [
        {
          "output_type": "execute_result",
          "data": {
            "text/plain": [
              "0.59064807219032"
            ]
          },
          "metadata": {},
          "execution_count": 15
        }
      ]
    },
    {
      "cell_type": "code",
      "metadata": {
        "colab": {
          "base_uri": "https://localhost:8080/"
        },
        "id": "plXXud-9fEEx",
        "outputId": "ccb67552-42d7-4ec7-af4b-4a14cd231cfe"
      },
      "source": [
        "# calculate null accuracy (for multi-class classification problems)\n",
        "Y_test.value_counts().head(1) / len(Y_test)"
      ],
      "execution_count": 16,
      "outputs": [
        {
          "output_type": "execute_result",
          "data": {
            "text/plain": [
              "0    0.590648\n",
              "Name: type, dtype: float64"
            ]
          },
          "metadata": {},
          "execution_count": 16
        }
      ]
    },
    {
      "cell_type": "markdown",
      "metadata": {
        "id": "P0sGiCY1gTHA"
      },
      "source": [
        "When we compare our 71 to the null accuracy of 59 we can say that we have a decent model. "
      ]
    },
    {
      "cell_type": "code",
      "metadata": {
        "colab": {
          "base_uri": "https://localhost:8080/"
        },
        "id": "H7TZeRZ-gkeP",
        "outputId": "688a1fda-3610-4df3-8d1f-b2ad0be51817"
      },
      "source": [
        "# first argument is true values, second argument is predicted values\n",
        "print(metrics.confusion_matrix(Y_test, y_prediction_class))"
      ],
      "execution_count": 19,
      "outputs": [
        {
          "output_type": "stream",
          "name": "stdout",
          "text": [
            "[[587 133]\n",
            " [225 274]]\n"
          ]
        }
      ]
    },
    {
      "cell_type": "code",
      "metadata": {
        "colab": {
          "base_uri": "https://localhost:8080/"
        },
        "id": "0-oxCsTWhoj9",
        "outputId": "b8ebc873-9f7f-46d4-c70a-0a38149b9ab6"
      },
      "source": [
        "# print the first 25 true and predicted responses. Notice the rarity of the 1 being predicted on\n",
        "print('True:', Y_test.values[0:25])\n",
        "print('Pred:', y_prediction_class[0:25])"
      ],
      "execution_count": 24,
      "outputs": [
        {
          "output_type": "stream",
          "name": "stdout",
          "text": [
            "True: [0 1 1 0 1 1 0 1 0 0 1 0 1 0 0 1 0 0 0 0 1 1 0 0 0]\n",
            "Pred: [0 1 1 0 0 0 0 1 1 0 1 1 1 0 0 0 0 0 1 0 0 0 1 1 1]\n"
          ]
        }
      ]
    },
    {
      "cell_type": "code",
      "metadata": {
        "id": "3RVsOrAJhzQd"
      },
      "source": [
        "confusion = metrics.confusion_matrix(Y_test, y_prediction_class)\n",
        "TP = confusion[1, 1]\n",
        "TN = confusion[0, 0]\n",
        "FP = confusion[0, 1]\n",
        "FN = confusion[1, 0]"
      ],
      "execution_count": 21,
      "outputs": []
    },
    {
      "cell_type": "code",
      "metadata": {
        "colab": {
          "base_uri": "https://localhost:8080/"
        },
        "id": "S8bYlMblh6p3",
        "outputId": "c73df3e4-b146-4354-af81-7bc26bc2fb2c"
      },
      "source": [
        "# Overall, how often is the classifier correct\n",
        "print((TP + TN) / (TP + TN + FP + FN))\n",
        "print(metrics.accuracy_score(Y_test, y_prediction_class))"
      ],
      "execution_count": 25,
      "outputs": [
        {
          "output_type": "stream",
          "name": "stdout",
          "text": [
            "0.7063166529942576\n",
            "0.7063166529942576\n"
          ]
        }
      ]
    },
    {
      "cell_type": "code",
      "metadata": {
        "colab": {
          "base_uri": "https://localhost:8080/"
        },
        "id": "WciOL4XkiAce",
        "outputId": "0a3c0161-e82b-4ec5-d68f-934ce0f6d2ce"
      },
      "source": [
        "# Overall, how often is the classifier incorrect\n",
        "print((FP + FN) / (TP + TN + FP + FN))\n",
        "print(1 - metrics.accuracy_score(Y_test, y_prediction_class))"
      ],
      "execution_count": 26,
      "outputs": [
        {
          "output_type": "stream",
          "name": "stdout",
          "text": [
            "0.2936833470057424\n",
            "0.2936833470057424\n"
          ]
        }
      ]
    },
    {
      "cell_type": "code",
      "metadata": {
        "colab": {
          "base_uri": "https://localhost:8080/"
        },
        "id": "YPdzZwZYiHZq",
        "outputId": "09d86030-487f-4f61-e458-46f0dcbdf431"
      },
      "source": [
        "# when the value is positive, how often is the prediction correct\n",
        "print(TP / (TP + FN))\n",
        "print(metrics.recall_score(Y_test, y_prediction_class))"
      ],
      "execution_count": 29,
      "outputs": [
        {
          "output_type": "stream",
          "name": "stdout",
          "text": [
            "0.5490981963927856\n",
            "0.5490981963927856\n"
          ]
        }
      ]
    },
    {
      "cell_type": "code",
      "metadata": {
        "colab": {
          "base_uri": "https://localhost:8080/"
        },
        "id": "kkm_cZjqCn83",
        "outputId": "793fe364-d213-4b35-beaa-df42ceec4da4"
      },
      "source": [
        "# when the value negative, how often is the prediction correct\n",
        "print(TN / (TN + FP))"
      ],
      "execution_count": 30,
      "outputs": [
        {
          "output_type": "stream",
          "name": "stdout",
          "text": [
            "0.8152777777777778\n"
          ]
        }
      ]
    },
    {
      "cell_type": "code",
      "metadata": {
        "colab": {
          "base_uri": "https://localhost:8080/"
        },
        "id": "DfYmFBZHC7ni",
        "outputId": "ff21734c-6fc7-4e69-8d60-946b000334e6"
      },
      "source": [
        "# when the value is negative, how often is the prediction incorrect\n",
        "print(FP / (TN + FP))"
      ],
      "execution_count": 31,
      "outputs": [
        {
          "output_type": "stream",
          "name": "stdout",
          "text": [
            "0.18472222222222223\n"
          ]
        }
      ]
    },
    {
      "cell_type": "code",
      "metadata": {
        "colab": {
          "base_uri": "https://localhost:8080/"
        },
        "id": "Gh6fCiIJDC1Y",
        "outputId": "7755feb0-1c71-43fc-9383-56a9dabf5983"
      },
      "source": [
        "# When a positive value is predicted, how often is the prediction correct\n",
        "print(TP / (TP + FP))\n",
        "print(metrics.precision_score(Y_test, y_prediction_class))"
      ],
      "execution_count": 32,
      "outputs": [
        {
          "output_type": "stream",
          "name": "stdout",
          "text": [
            "0.6732186732186732\n",
            "0.6732186732186732\n"
          ]
        }
      ]
    },
    {
      "cell_type": "markdown",
      "metadata": {
        "id": "5Nh-8RqeDZdE"
      },
      "source": [
        "Confusion matrix gives us a more complete picture of how your classifier is performing"
      ]
    },
    {
      "cell_type": "code",
      "metadata": {
        "id": "sT14Z4rsEU3G"
      },
      "source": [
        ""
      ],
      "execution_count": null,
      "outputs": []
    }
  ]
}