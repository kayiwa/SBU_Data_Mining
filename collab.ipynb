{
  "nbformat": 4,
  "nbformat_minor": 5,
  "metadata": {
    "kernelspec": {
      "display_name": "Python 3",
      "language": "python",
      "name": "python3"
    },
    "language_info": {
      "codemirror_mode": {
        "name": "ipython",
        "version": 3
      },
      "file_extension": ".py",
      "mimetype": "text/x-python",
      "name": "python",
      "nbconvert_exporter": "python",
      "pygments_lexer": "ipython3",
      "version": "3.9.4"
    },
    "colab": {
      "name": "collab.ipynb",
      "provenance": [],
      "include_colab_link": true
    }
  },
  "cells": [
    {
      "cell_type": "markdown",
      "metadata": {
        "id": "view-in-github",
        "colab_type": "text"
      },
      "source": [
        "<a href=\"https://colab.research.google.com/github/kayiwa/SBU_Data_Mining/blob/main/collab.ipynb\" target=\"_parent\"><img src=\"https://colab.research.google.com/assets/colab-badge.svg\" alt=\"Open In Colab\"/></a>"
      ]
    },
    {
      "cell_type": "code",
      "metadata": {
        "colab": {
          "base_uri": "https://localhost:8080/",
          "height": 424
        },
        "id": "g3s59pOjUhy9",
        "outputId": "3afdcd9e-6f79-4489-fa65-abf929a4e620"
      },
      "source": [
        "# import libraries\n",
        "import numpy as np\n",
        "import pandas as pd\n",
        "import seaborn as sns\n",
        "import matplotlib.pyplot as plt\n",
        "%matplotlib inline\n",
        "# this is dangerous but will do\n",
        "data= pd.read_csv(\"https://raw.githubusercontent.com/kayiwa/SBU_Data_Mining/main/atlassian-confluence.csv\")\n",
        "# print the result\n",
        "data"
      ],
      "id": "g3s59pOjUhy9",
      "execution_count": 27,
      "outputs": [
        {
          "output_type": "execute_result",
          "data": {
            "text/html": [
              "<div>\n",
              "<style scoped>\n",
              "    .dataframe tbody tr th:only-of-type {\n",
              "        vertical-align: middle;\n",
              "    }\n",
              "\n",
              "    .dataframe tbody tr th {\n",
              "        vertical-align: top;\n",
              "    }\n",
              "\n",
              "    .dataframe thead th {\n",
              "        text-align: right;\n",
              "    }\n",
              "</style>\n",
              "<table border=\"1\" class=\"dataframe\">\n",
              "  <thead>\n",
              "    <tr style=\"text-align: right;\">\n",
              "      <th></th>\n",
              "      <th>2021-10-14 10:54:35,678</th>\n",
              "      <th>\"ERROR\"</th>\n",
              "      <th>\"ERROR\".1</th>\n",
              "    </tr>\n",
              "  </thead>\n",
              "  <tbody>\n",
              "    <tr>\n",
              "      <th>0</th>\n",
              "      <td>2021-10-14 10:56:52,560</td>\n",
              "      <td>\"INFO\"</td>\n",
              "      <td>\"STATEMENT\"</td>\n",
              "    </tr>\n",
              "    <tr>\n",
              "      <th>1</th>\n",
              "      <td>2021-10-14 10:56:57,793</td>\n",
              "      <td>\"INFO\"</td>\n",
              "      <td>\"STATEMENT\"</td>\n",
              "    </tr>\n",
              "    <tr>\n",
              "      <th>2</th>\n",
              "      <td>2021-10-14 10:57:01,281</td>\n",
              "      <td>\"INFO\"</td>\n",
              "      <td>\"STATEMENT\"</td>\n",
              "    </tr>\n",
              "    <tr>\n",
              "      <th>3</th>\n",
              "      <td>2021-10-14 10:57:13,993</td>\n",
              "      <td>\"INFO\"</td>\n",
              "      <td>\"STATEMENT\"</td>\n",
              "    </tr>\n",
              "    <tr>\n",
              "      <th>4</th>\n",
              "      <td>2021-10-14 10:57:14,212</td>\n",
              "      <td>\"INFO\"</td>\n",
              "      <td>\"STATEMENT\"</td>\n",
              "    </tr>\n",
              "    <tr>\n",
              "      <th>...</th>\n",
              "      <td>...</td>\n",
              "      <td>...</td>\n",
              "      <td>...</td>\n",
              "    </tr>\n",
              "    <tr>\n",
              "      <th>623</th>\n",
              "      <td>2021-10-15 13:01:38,071</td>\n",
              "      <td>\"INFO\"</td>\n",
              "      <td>\"STATEMENT\"</td>\n",
              "    </tr>\n",
              "    <tr>\n",
              "      <th>624</th>\n",
              "      <td>2021-10-15 13:01:38,176</td>\n",
              "      <td>\"INFO\"</td>\n",
              "      <td>\"STATEMENT\"</td>\n",
              "    </tr>\n",
              "    <tr>\n",
              "      <th>625</th>\n",
              "      <td>2021-10-15 13:02:50,495</td>\n",
              "      <td>\"INFO\"</td>\n",
              "      <td>\"STATEMENT\"</td>\n",
              "    </tr>\n",
              "    <tr>\n",
              "      <th>626</th>\n",
              "      <td>2021-10-15 13:09:05,897</td>\n",
              "      <td>\"ERROR\"</td>\n",
              "      <td>\"ERROR\"</td>\n",
              "    </tr>\n",
              "    <tr>\n",
              "      <th>627</th>\n",
              "      <td>2021-10-15 13:09:05,898</td>\n",
              "      <td>\"ERROR\"</td>\n",
              "      <td>\"ERROR\"</td>\n",
              "    </tr>\n",
              "  </tbody>\n",
              "</table>\n",
              "<p>628 rows × 3 columns</p>\n",
              "</div>"
            ],
            "text/plain": [
              "     2021-10-14 10:54:35,678   \"ERROR\"     \"ERROR\".1\n",
              "0    2021-10-14 10:56:52,560    \"INFO\"   \"STATEMENT\"\n",
              "1    2021-10-14 10:56:57,793    \"INFO\"   \"STATEMENT\"\n",
              "2    2021-10-14 10:57:01,281    \"INFO\"   \"STATEMENT\"\n",
              "3    2021-10-14 10:57:13,993    \"INFO\"   \"STATEMENT\"\n",
              "4    2021-10-14 10:57:14,212    \"INFO\"   \"STATEMENT\"\n",
              "..                       ...       ...           ...\n",
              "623  2021-10-15 13:01:38,071    \"INFO\"   \"STATEMENT\"\n",
              "624  2021-10-15 13:01:38,176    \"INFO\"   \"STATEMENT\"\n",
              "625  2021-10-15 13:02:50,495    \"INFO\"   \"STATEMENT\"\n",
              "626  2021-10-15 13:09:05,897   \"ERROR\"       \"ERROR\"\n",
              "627  2021-10-15 13:09:05,898   \"ERROR\"       \"ERROR\"\n",
              "\n",
              "[628 rows x 3 columns]"
            ]
          },
          "metadata": {},
          "execution_count": 27
        }
      ]
    },
    {
      "cell_type": "code",
      "metadata": {
        "colab": {
          "base_uri": "https://localhost:8080/"
        },
        "id": "Z9ywj-P_VtNK",
        "outputId": "af53f2f2-fd80-40c6-ec2f-07a4f8be05bd"
      },
      "source": [
        "data.info()"
      ],
      "id": "Z9ywj-P_VtNK",
      "execution_count": 4,
      "outputs": [
        {
          "output_type": "stream",
          "name": "stdout",
          "text": [
            "<class 'pandas.core.frame.DataFrame'>\n",
            "RangeIndex: 628 entries, 0 to 627\n",
            "Data columns (total 3 columns):\n",
            " #   Column                   Non-Null Count  Dtype \n",
            "---  ------                   --------------  ----- \n",
            " 0   2021-10-14 10:54:35,678  628 non-null    object\n",
            " 1    \"ERROR\"                 628 non-null    object\n",
            " 2    \"ERROR\".1               628 non-null    object\n",
            "dtypes: object(3)\n",
            "memory usage: 14.8+ KB\n"
          ]
        }
      ]
    },
    {
      "cell_type": "code",
      "metadata": {
        "id": "abtzHwHvdpnU",
        "colab": {
          "base_uri": "https://localhost:8080/",
          "height": 424
        },
        "outputId": "9c32d4b8-97dd-4d4a-94ca-dae077c5c446"
      },
      "source": [
        "# give the columns headings\n",
        "data.columns = [\"Datetime\", \"error_label\", \"redacted_postgres\"]\n",
        "data"
      ],
      "id": "abtzHwHvdpnU",
      "execution_count": 28,
      "outputs": [
        {
          "output_type": "execute_result",
          "data": {
            "text/html": [
              "<div>\n",
              "<style scoped>\n",
              "    .dataframe tbody tr th:only-of-type {\n",
              "        vertical-align: middle;\n",
              "    }\n",
              "\n",
              "    .dataframe tbody tr th {\n",
              "        vertical-align: top;\n",
              "    }\n",
              "\n",
              "    .dataframe thead th {\n",
              "        text-align: right;\n",
              "    }\n",
              "</style>\n",
              "<table border=\"1\" class=\"dataframe\">\n",
              "  <thead>\n",
              "    <tr style=\"text-align: right;\">\n",
              "      <th></th>\n",
              "      <th>Datetime</th>\n",
              "      <th>error_label</th>\n",
              "      <th>redacted_postgres</th>\n",
              "    </tr>\n",
              "  </thead>\n",
              "  <tbody>\n",
              "    <tr>\n",
              "      <th>0</th>\n",
              "      <td>2021-10-14 10:56:52,560</td>\n",
              "      <td>\"INFO\"</td>\n",
              "      <td>\"STATEMENT\"</td>\n",
              "    </tr>\n",
              "    <tr>\n",
              "      <th>1</th>\n",
              "      <td>2021-10-14 10:56:57,793</td>\n",
              "      <td>\"INFO\"</td>\n",
              "      <td>\"STATEMENT\"</td>\n",
              "    </tr>\n",
              "    <tr>\n",
              "      <th>2</th>\n",
              "      <td>2021-10-14 10:57:01,281</td>\n",
              "      <td>\"INFO\"</td>\n",
              "      <td>\"STATEMENT\"</td>\n",
              "    </tr>\n",
              "    <tr>\n",
              "      <th>3</th>\n",
              "      <td>2021-10-14 10:57:13,993</td>\n",
              "      <td>\"INFO\"</td>\n",
              "      <td>\"STATEMENT\"</td>\n",
              "    </tr>\n",
              "    <tr>\n",
              "      <th>4</th>\n",
              "      <td>2021-10-14 10:57:14,212</td>\n",
              "      <td>\"INFO\"</td>\n",
              "      <td>\"STATEMENT\"</td>\n",
              "    </tr>\n",
              "    <tr>\n",
              "      <th>...</th>\n",
              "      <td>...</td>\n",
              "      <td>...</td>\n",
              "      <td>...</td>\n",
              "    </tr>\n",
              "    <tr>\n",
              "      <th>623</th>\n",
              "      <td>2021-10-15 13:01:38,071</td>\n",
              "      <td>\"INFO\"</td>\n",
              "      <td>\"STATEMENT\"</td>\n",
              "    </tr>\n",
              "    <tr>\n",
              "      <th>624</th>\n",
              "      <td>2021-10-15 13:01:38,176</td>\n",
              "      <td>\"INFO\"</td>\n",
              "      <td>\"STATEMENT\"</td>\n",
              "    </tr>\n",
              "    <tr>\n",
              "      <th>625</th>\n",
              "      <td>2021-10-15 13:02:50,495</td>\n",
              "      <td>\"INFO\"</td>\n",
              "      <td>\"STATEMENT\"</td>\n",
              "    </tr>\n",
              "    <tr>\n",
              "      <th>626</th>\n",
              "      <td>2021-10-15 13:09:05,897</td>\n",
              "      <td>\"ERROR\"</td>\n",
              "      <td>\"ERROR\"</td>\n",
              "    </tr>\n",
              "    <tr>\n",
              "      <th>627</th>\n",
              "      <td>2021-10-15 13:09:05,898</td>\n",
              "      <td>\"ERROR\"</td>\n",
              "      <td>\"ERROR\"</td>\n",
              "    </tr>\n",
              "  </tbody>\n",
              "</table>\n",
              "<p>628 rows × 3 columns</p>\n",
              "</div>"
            ],
            "text/plain": [
              "                    Datetime error_label redacted_postgres\n",
              "0    2021-10-14 10:56:52,560      \"INFO\"       \"STATEMENT\"\n",
              "1    2021-10-14 10:56:57,793      \"INFO\"       \"STATEMENT\"\n",
              "2    2021-10-14 10:57:01,281      \"INFO\"       \"STATEMENT\"\n",
              "3    2021-10-14 10:57:13,993      \"INFO\"       \"STATEMENT\"\n",
              "4    2021-10-14 10:57:14,212      \"INFO\"       \"STATEMENT\"\n",
              "..                       ...         ...               ...\n",
              "623  2021-10-15 13:01:38,071      \"INFO\"       \"STATEMENT\"\n",
              "624  2021-10-15 13:01:38,176      \"INFO\"       \"STATEMENT\"\n",
              "625  2021-10-15 13:02:50,495      \"INFO\"       \"STATEMENT\"\n",
              "626  2021-10-15 13:09:05,897     \"ERROR\"           \"ERROR\"\n",
              "627  2021-10-15 13:09:05,898     \"ERROR\"           \"ERROR\"\n",
              "\n",
              "[628 rows x 3 columns]"
            ]
          },
          "metadata": {},
          "execution_count": 28
        }
      ]
    },
    {
      "cell_type": "code",
      "metadata": {
        "id": "qoAuMGi3u1XG",
        "colab": {
          "base_uri": "https://localhost:8080/"
        },
        "outputId": "de82a249-8fba-4b8a-9d6f-13cfac84bf5b"
      },
      "source": [
        "# unstringify the Date time column\n",
        "data['Datetime'] = pd.to_datetime(data['Datetime'])\n",
        "data.info()"
      ],
      "id": "qoAuMGi3u1XG",
      "execution_count": 29,
      "outputs": [
        {
          "output_type": "stream",
          "name": "stdout",
          "text": [
            "<class 'pandas.core.frame.DataFrame'>\n",
            "RangeIndex: 628 entries, 0 to 627\n",
            "Data columns (total 3 columns):\n",
            " #   Column             Non-Null Count  Dtype         \n",
            "---  ------             --------------  -----         \n",
            " 0   Datetime           628 non-null    datetime64[ns]\n",
            " 1   error_label        628 non-null    object        \n",
            " 2   redacted_postgres  628 non-null    object        \n",
            "dtypes: datetime64[ns](1), object(2)\n",
            "memory usage: 14.8+ KB\n"
          ]
        }
      ]
    },
    {
      "cell_type": "code",
      "metadata": {
        "id": "4Eg4EXfLrX--"
      },
      "source": [
        "from sklearn.preprocessing import LabelEncoder"
      ],
      "id": "4Eg4EXfLrX--",
      "execution_count": 19,
      "outputs": []
    },
    {
      "cell_type": "code",
      "metadata": {
        "colab": {
          "base_uri": "https://localhost:8080/"
        },
        "id": "vTzSIspR-I6-",
        "outputId": "7802bc35-86aa-469b-8e2c-0411f7c25b4a"
      },
      "source": [
        "data.head"
      ],
      "id": "vTzSIspR-I6-",
      "execution_count": 30,
      "outputs": [
        {
          "output_type": "execute_result",
          "data": {
            "text/plain": [
              "<bound method NDFrame.head of                    Datetime error_label redacted_postgres\n",
              "0   2021-10-14 10:56:52.560      \"INFO\"       \"STATEMENT\"\n",
              "1   2021-10-14 10:56:57.793      \"INFO\"       \"STATEMENT\"\n",
              "2   2021-10-14 10:57:01.281      \"INFO\"       \"STATEMENT\"\n",
              "3   2021-10-14 10:57:13.993      \"INFO\"       \"STATEMENT\"\n",
              "4   2021-10-14 10:57:14.212      \"INFO\"       \"STATEMENT\"\n",
              "..                      ...         ...               ...\n",
              "623 2021-10-15 13:01:38.071      \"INFO\"       \"STATEMENT\"\n",
              "624 2021-10-15 13:01:38.176      \"INFO\"       \"STATEMENT\"\n",
              "625 2021-10-15 13:02:50.495      \"INFO\"       \"STATEMENT\"\n",
              "626 2021-10-15 13:09:05.897     \"ERROR\"           \"ERROR\"\n",
              "627 2021-10-15 13:09:05.898     \"ERROR\"           \"ERROR\"\n",
              "\n",
              "[628 rows x 3 columns]>"
            ]
          },
          "metadata": {},
          "execution_count": 30
        }
      ]
    },
    {
      "cell_type": "code",
      "metadata": {
        "colab": {
          "base_uri": "https://localhost:8080/"
        },
        "id": "6mY_BPw5wrzw",
        "outputId": "ef9c4828-e40f-4f85-f304-577d89508e48"
      },
      "source": [
        "data.info()"
      ],
      "id": "6mY_BPw5wrzw",
      "execution_count": 31,
      "outputs": [
        {
          "output_type": "stream",
          "name": "stdout",
          "text": [
            "<class 'pandas.core.frame.DataFrame'>\n",
            "RangeIndex: 628 entries, 0 to 627\n",
            "Data columns (total 3 columns):\n",
            " #   Column             Non-Null Count  Dtype         \n",
            "---  ------             --------------  -----         \n",
            " 0   Datetime           628 non-null    datetime64[ns]\n",
            " 1   error_label        628 non-null    object        \n",
            " 2   redacted_postgres  628 non-null    object        \n",
            "dtypes: datetime64[ns](1), object(2)\n",
            "memory usage: 14.8+ KB\n"
          ]
        }
      ]
    },
    {
      "cell_type": "code",
      "metadata": {
        "id": "mlQGTQtJo4zt"
      },
      "source": [
        "X = data[['Datetime', 'error_label']]\n",
        "y = data['redacted_postgres']"
      ],
      "id": "mlQGTQtJo4zt",
      "execution_count": 32,
      "outputs": []
    },
    {
      "cell_type": "code",
      "metadata": {
        "colab": {
          "base_uri": "https://localhost:8080/"
        },
        "id": "SU7bMQaWxbi7",
        "outputId": "ff140747-0f19-4e3a-9ec8-cd809fc5f336"
      },
      "source": [
        "X.shape"
      ],
      "id": "SU7bMQaWxbi7",
      "execution_count": 35,
      "outputs": [
        {
          "output_type": "execute_result",
          "data": {
            "text/plain": [
              "(628, 2)"
            ]
          },
          "metadata": {},
          "execution_count": 35
        }
      ]
    },
    {
      "cell_type": "code",
      "metadata": {
        "colab": {
          "base_uri": "https://localhost:8080/"
        },
        "id": "zfPQyQYHx4hd",
        "outputId": "1036c7f7-b1ac-460e-ceef-84c243ce1ab8"
      },
      "source": [
        "X.columns"
      ],
      "id": "zfPQyQYHx4hd",
      "execution_count": 36,
      "outputs": [
        {
          "output_type": "execute_result",
          "data": {
            "text/plain": [
              "Index(['Datetime', 'error_label'], dtype='object')"
            ]
          },
          "metadata": {},
          "execution_count": 36
        }
      ]
    },
    {
      "cell_type": "code",
      "metadata": {
        "colab": {
          "base_uri": "https://localhost:8080/",
          "height": 206
        },
        "id": "wXlDpos1yBgM",
        "outputId": "f1219776-9daa-4de8-cec3-d77e937344c3"
      },
      "source": [
        "from sklearn import preprocessing\n",
        "# 1. INSTANTIATE\n",
        "# encode labels with value between 0 and n_classes-1.\n",
        "le = preprocessing.LabelEncoder()\n",
        "\n",
        "\n",
        "# 2/3. FIT AND TRANSFORM\n",
        "# use df.apply() to apply le.fit_transform to all columns\n",
        "X_2 = X.apply(le.fit_transform)\n",
        "X_2.head()"
      ],
      "id": "wXlDpos1yBgM",
      "execution_count": 37,
      "outputs": [
        {
          "output_type": "execute_result",
          "data": {
            "text/html": [
              "<div>\n",
              "<style scoped>\n",
              "    .dataframe tbody tr th:only-of-type {\n",
              "        vertical-align: middle;\n",
              "    }\n",
              "\n",
              "    .dataframe tbody tr th {\n",
              "        vertical-align: top;\n",
              "    }\n",
              "\n",
              "    .dataframe thead th {\n",
              "        text-align: right;\n",
              "    }\n",
              "</style>\n",
              "<table border=\"1\" class=\"dataframe\">\n",
              "  <thead>\n",
              "    <tr style=\"text-align: right;\">\n",
              "      <th></th>\n",
              "      <th>Datetime</th>\n",
              "      <th>error_label</th>\n",
              "    </tr>\n",
              "  </thead>\n",
              "  <tbody>\n",
              "    <tr>\n",
              "      <th>0</th>\n",
              "      <td>0</td>\n",
              "      <td>0</td>\n",
              "    </tr>\n",
              "    <tr>\n",
              "      <th>1</th>\n",
              "      <td>1</td>\n",
              "      <td>0</td>\n",
              "    </tr>\n",
              "    <tr>\n",
              "      <th>2</th>\n",
              "      <td>2</td>\n",
              "      <td>0</td>\n",
              "    </tr>\n",
              "    <tr>\n",
              "      <th>3</th>\n",
              "      <td>3</td>\n",
              "      <td>0</td>\n",
              "    </tr>\n",
              "    <tr>\n",
              "      <th>4</th>\n",
              "      <td>4</td>\n",
              "      <td>0</td>\n",
              "    </tr>\n",
              "  </tbody>\n",
              "</table>\n",
              "</div>"
            ],
            "text/plain": [
              "   Datetime  error_label\n",
              "0         0            0\n",
              "1         1            0\n",
              "2         2            0\n",
              "3         3            0\n",
              "4         4            0"
            ]
          },
          "metadata": {},
          "execution_count": 37
        }
      ]
    },
    {
      "cell_type": "code",
      "metadata": {
        "id": "yMndGRLaxlN1"
      },
      "source": [
        "# Import train_test_split function\n",
        "from sklearn.model_selection import train_test_split\n",
        "# Split dataset into training set and test set\n",
        "X_train, X_test, y_train, y_test = train_test_split(X_2, y, test_size=0.3)"
      ],
      "id": "yMndGRLaxlN1",
      "execution_count": 42,
      "outputs": []
    },
    {
      "cell_type": "code",
      "metadata": {
        "id": "uVUcynm4zVeT"
      },
      "source": [
        "#Import Random Forest Model\n",
        "from sklearn.ensemble import RandomForestClassifier\n",
        "\n",
        "# define the model\n",
        "model = RandomForestClassifier()\n",
        "#Create a Gaussian Classifier\n",
        "clf=RandomForestClassifier(n_estimators=100)\n",
        "\n",
        "#Train the model using the training sets y_pred=clf.predict(X_test)\n",
        "clf.fit(X_train,y_train)\n",
        "\n",
        "y_pred=clf.predict(X_test)"
      ],
      "id": "uVUcynm4zVeT",
      "execution_count": 43,
      "outputs": []
    },
    {
      "cell_type": "code",
      "metadata": {
        "colab": {
          "base_uri": "https://localhost:8080/"
        },
        "id": "Xxt4hV6F0CxE",
        "outputId": "15410c74-9006-4622-af70-d7d375b9b4dd"
      },
      "source": [
        "#Import scikit-learn metrics module for accuracy calculation\n",
        "from sklearn import metrics\n",
        "# Model Accuracy, how often is the classifier correct?\n",
        "print(\"Accuracy:\",metrics.accuracy_score(y_test, y_pred))\n"
      ],
      "id": "Xxt4hV6F0CxE",
      "execution_count": 44,
      "outputs": [
        {
          "output_type": "stream",
          "name": "stdout",
          "text": [
            "Accuracy: 0.873015873015873\n"
          ]
        }
      ]
    },
    {
      "cell_type": "code",
      "metadata": {
        "colab": {
          "base_uri": "https://localhost:8080/",
          "height": 358
        },
        "id": "I472Pq7_Ugsk",
        "outputId": "2b9df0fc-859a-445a-9ed6-e99ff254d693"
      },
      "source": [
        "confusion_matrix = pd.crosstab(y_test, y_pred, rownames=['Actual'], colnames=['Predicted'])\n",
        "sns.heatmap(confusion_matrix, annot=True)"
      ],
      "id": "I472Pq7_Ugsk",
      "execution_count": 46,
      "outputs": [
        {
          "output_type": "execute_result",
          "data": {
            "text/plain": [
              "<matplotlib.axes._subplots.AxesSubplot at 0x7fc2d65b6890>"
            ]
          },
          "metadata": {},
          "execution_count": 46
        },
        {
          "output_type": "display_data",
          "data": {
            "image/png": "[encoded data removed]",
            "text/plain": [
              "<Figure size 432x288 with 2 Axes>"
            ]
          },
          "metadata": {
            "needs_background": "light"
          }
        }
      ]
    },
    {
      "cell_type": "code",
      "metadata": {
        "colab": {
          "base_uri": "https://localhost:8080/"
        },
        "id": "EOR9CZ1GICxc",
        "outputId": "638f170f-d68d-4cba-bad9-6aaff5aad73f"
      },
      "source": [
        "print('Accuracy: ',metrics.accuracy_score(y_test, y_pred))\n",
        "plt.show()"
      ],
      "id": "EOR9CZ1GICxc",
      "execution_count": 47,
      "outputs": [
        {
          "output_type": "stream",
          "name": "stdout",
          "text": [
            "Accuracy:  0.873015873015873\n"
          ]
        }
      ]
    },
    {
      "cell_type": "code",
      "metadata": {
        "id": "bEPdG5LrIHrH"
      },
      "source": [
        ""
      ],
      "id": "bEPdG5LrIHrH",
      "execution_count": null,
      "outputs": []
    }
  ]
}