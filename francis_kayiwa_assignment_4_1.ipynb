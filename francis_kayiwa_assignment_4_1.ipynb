{
  "nbformat": 4,
  "nbformat_minor": 0,
  "metadata": {
    "colab": {
      "name": "francis_kayiwa_assignment_4_1.ipynb",
      "provenance": [],
      "authorship_tag": "ABX9TyPQccllyJOOf9QX4FEVNx6G",
      "include_colab_link": true
    },
    "kernelspec": {
      "name": "python3",
      "display_name": "Python 3"
    },
    "language_info": {
      "name": "python"
    }
  },
  "cells": [
    {
      "cell_type": "markdown",
      "metadata": {
        "id": "view-in-github",
        "colab_type": "text"
      },
      "source": [
        "<a href=\"https://colab.research.google.com/github/kayiwa/SBU_Data_Mining/blob/main/francis_kayiwa_assignment_4_1.ipynb\" target=\"_parent\"><img src=\"https://colab.research.google.com/assets/colab-badge.svg\" alt=\"Open In Colab\"/></a>"
      ]
    },
    {
      "cell_type": "code",
      "metadata": {
        "id": "5ovuanoZ7si8"
      },
      "source": [
        "# yank and paste from tutorial\n",
        "import matplotlib.pyplot as plt\n",
        "import seaborn as sns\n",
        "import pandas as pd\n",
        "import numpy as np\n",
        "%matplotlib inline"
      ],
      "execution_count": 2,
      "outputs": []
    },
    {
      "cell_type": "code",
      "metadata": {
        "colab": {
          "base_uri": "https://localhost:8080/",
          "height": 363
        },
        "id": "MZZ7OB9n8CeQ",
        "outputId": "cdcb35ff-f0ba-4eba-add9-833c9797c5fb"
      },
      "source": [
        "data = pd.read_csv(\"https://raw.githubusercontent.com/kayiwa/SBU_Data_Mining/main/data.csv\")\n",
        "data.head(10)"
      ],
      "execution_count": 3,
      "outputs": [
        {
          "output_type": "execute_result",
          "data": {
            "text/html": [
              "<div>\n",
              "<style scoped>\n",
              "    .dataframe tbody tr th:only-of-type {\n",
              "        vertical-align: middle;\n",
              "    }\n",
              "\n",
              "    .dataframe tbody tr th {\n",
              "        vertical-align: top;\n",
              "    }\n",
              "\n",
              "    .dataframe thead th {\n",
              "        text-align: right;\n",
              "    }\n",
              "</style>\n",
              "<table border=\"1\" class=\"dataframe\">\n",
              "  <thead>\n",
              "    <tr style=\"text-align: right;\">\n",
              "      <th></th>\n",
              "      <th>url</th>\n",
              "      <th>label</th>\n",
              "    </tr>\n",
              "  </thead>\n",
              "  <tbody>\n",
              "    <tr>\n",
              "      <th>0</th>\n",
              "      <td>diaryofagameaddict.com</td>\n",
              "      <td>bad</td>\n",
              "    </tr>\n",
              "    <tr>\n",
              "      <th>1</th>\n",
              "      <td>espdesign.com.au</td>\n",
              "      <td>bad</td>\n",
              "    </tr>\n",
              "    <tr>\n",
              "      <th>2</th>\n",
              "      <td>iamagameaddict.com</td>\n",
              "      <td>bad</td>\n",
              "    </tr>\n",
              "    <tr>\n",
              "      <th>3</th>\n",
              "      <td>kalantzis.net</td>\n",
              "      <td>bad</td>\n",
              "    </tr>\n",
              "    <tr>\n",
              "      <th>4</th>\n",
              "      <td>slightlyoffcenter.net</td>\n",
              "      <td>bad</td>\n",
              "    </tr>\n",
              "    <tr>\n",
              "      <th>5</th>\n",
              "      <td>toddscarwash.com</td>\n",
              "      <td>bad</td>\n",
              "    </tr>\n",
              "    <tr>\n",
              "      <th>6</th>\n",
              "      <td>tubemoviez.com</td>\n",
              "      <td>bad</td>\n",
              "    </tr>\n",
              "    <tr>\n",
              "      <th>7</th>\n",
              "      <td>ipl.hk</td>\n",
              "      <td>bad</td>\n",
              "    </tr>\n",
              "    <tr>\n",
              "      <th>8</th>\n",
              "      <td>crackspider.us/toolbar/install.php?pack=exe</td>\n",
              "      <td>bad</td>\n",
              "    </tr>\n",
              "    <tr>\n",
              "      <th>9</th>\n",
              "      <td>pos-kupang.com/</td>\n",
              "      <td>bad</td>\n",
              "    </tr>\n",
              "  </tbody>\n",
              "</table>\n",
              "</div>"
            ],
            "text/plain": [
              "                                           url label\n",
              "0                       diaryofagameaddict.com   bad\n",
              "1                             espdesign.com.au   bad\n",
              "2                           iamagameaddict.com   bad\n",
              "3                                kalantzis.net   bad\n",
              "4                        slightlyoffcenter.net   bad\n",
              "5                             toddscarwash.com   bad\n",
              "6                               tubemoviez.com   bad\n",
              "7                                       ipl.hk   bad\n",
              "8  crackspider.us/toolbar/install.php?pack=exe   bad\n",
              "9                              pos-kupang.com/   bad"
            ]
          },
          "metadata": {},
          "execution_count": 3
        }
      ]
    },
    {
      "cell_type": "code",
      "metadata": {
        "colab": {
          "base_uri": "https://localhost:8080/"
        },
        "id": "J-eaJcT58MNq",
        "outputId": "0fd8b9ea-5c4b-442b-e1d6-9945e916d0cb"
      },
      "source": [
        "# show unique values\n",
        "data.label.unique()"
      ],
      "execution_count": 4,
      "outputs": [
        {
          "output_type": "execute_result",
          "data": {
            "text/plain": [
              "array(['bad', 'good'], dtype=object)"
            ]
          },
          "metadata": {},
          "execution_count": 4
        }
      ]
    },
    {
      "cell_type": "code",
      "metadata": {
        "colab": {
          "base_uri": "https://localhost:8080/",
          "height": 424
        },
        "id": "S0BrlbD3_og4",
        "outputId": "38692c1e-5b67-4085-e217-6dc3daec8d84"
      },
      "source": [
        "# import preprocessing from sklearn to convert type and name to numbers that we can work with. \n",
        "from sklearn import preprocessing\n",
        "label_enc = preprocessing.LabelEncoder()\n",
        "data = data.apply(label_enc.fit_transform)\n",
        "data"
      ],
      "execution_count": 5,
      "outputs": [
        {
          "output_type": "execute_result",
          "data": {
            "text/html": [
              "<div>\n",
              "<style scoped>\n",
              "    .dataframe tbody tr th:only-of-type {\n",
              "        vertical-align: middle;\n",
              "    }\n",
              "\n",
              "    .dataframe tbody tr th {\n",
              "        vertical-align: top;\n",
              "    }\n",
              "\n",
              "    .dataframe thead th {\n",
              "        text-align: right;\n",
              "    }\n",
              "</style>\n",
              "<table border=\"1\" class=\"dataframe\">\n",
              "  <thead>\n",
              "    <tr style=\"text-align: right;\">\n",
              "      <th></th>\n",
              "      <th>url</th>\n",
              "      <th>label</th>\n",
              "    </tr>\n",
              "  </thead>\n",
              "  <tbody>\n",
              "    <tr>\n",
              "      <th>0</th>\n",
              "      <td>96673</td>\n",
              "      <td>0</td>\n",
              "    </tr>\n",
              "    <tr>\n",
              "      <th>1</th>\n",
              "      <td>128825</td>\n",
              "      <td>0</td>\n",
              "    </tr>\n",
              "    <tr>\n",
              "      <th>2</th>\n",
              "      <td>183986</td>\n",
              "      <td>0</td>\n",
              "    </tr>\n",
              "    <tr>\n",
              "      <th>3</th>\n",
              "      <td>203520</td>\n",
              "      <td>0</td>\n",
              "    </tr>\n",
              "    <tr>\n",
              "      <th>4</th>\n",
              "      <td>324999</td>\n",
              "      <td>0</td>\n",
              "    </tr>\n",
              "    <tr>\n",
              "      <th>...</th>\n",
              "      <td>...</td>\n",
              "      <td>...</td>\n",
              "    </tr>\n",
              "    <tr>\n",
              "      <th>420459</th>\n",
              "      <td>5109</td>\n",
              "      <td>0</td>\n",
              "    </tr>\n",
              "    <tr>\n",
              "      <th>420460</th>\n",
              "      <td>32420</td>\n",
              "      <td>0</td>\n",
              "    </tr>\n",
              "    <tr>\n",
              "      <th>420461</th>\n",
              "      <td>32421</td>\n",
              "      <td>0</td>\n",
              "    </tr>\n",
              "    <tr>\n",
              "      <th>420462</th>\n",
              "      <td>32429</td>\n",
              "      <td>0</td>\n",
              "    </tr>\n",
              "    <tr>\n",
              "      <th>420463</th>\n",
              "      <td>32425</td>\n",
              "      <td>0</td>\n",
              "    </tr>\n",
              "  </tbody>\n",
              "</table>\n",
              "<p>420464 rows × 2 columns</p>\n",
              "</div>"
            ],
            "text/plain": [
              "           url  label\n",
              "0        96673      0\n",
              "1       128825      0\n",
              "2       183986      0\n",
              "3       203520      0\n",
              "4       324999      0\n",
              "...        ...    ...\n",
              "420459    5109      0\n",
              "420460   32420      0\n",
              "420461   32421      0\n",
              "420462   32429      0\n",
              "420463   32425      0\n",
              "\n",
              "[420464 rows x 2 columns]"
            ]
          },
          "metadata": {},
          "execution_count": 5
        }
      ]
    },
    {
      "cell_type": "code",
      "metadata": {
        "colab": {
          "base_uri": "https://localhost:8080/"
        },
        "id": "umN6JcAw__IQ",
        "outputId": "21a00b17-31e9-4ff9-a19e-2169aea991e2"
      },
      "source": [
        "# show modified unique values\n",
        "data.label.unique()"
      ],
      "execution_count": 6,
      "outputs": [
        {
          "output_type": "execute_result",
          "data": {
            "text/plain": [
              "array([0, 1])"
            ]
          },
          "metadata": {},
          "execution_count": 6
        }
      ]
    },
    {
      "cell_type": "code",
      "metadata": {
        "id": "hnq6cnJZAEJp"
      },
      "source": [
        "# define X and y\n",
        "X_lr = data[['url']]\n",
        "y_lr = data['label']"
      ],
      "execution_count": 20,
      "outputs": []
    },
    {
      "cell_type": "code",
      "metadata": {
        "id": "9iPLRzvwBdvH"
      },
      "source": [
        "# split X and y into training and testing sets\n",
        "from sklearn.model_selection import train_test_split\n",
        "X_lr_train, X_lr_test, y_lr_train, y_lr_test = train_test_split(X_lr, y_lr, random_state=0)"
      ],
      "execution_count": 39,
      "outputs": []
    },
    {
      "cell_type": "code",
      "metadata": {
        "colab": {
          "base_uri": "https://localhost:8080/"
        },
        "id": "lpoajEgxBfN_",
        "outputId": "aafff533-d53a-42b1-9892-0c8266bf3a00"
      },
      "source": [
        "# train a logistic regression model on the training set\n",
        "from sklearn.linear_model import LogisticRegression\n",
        "logreg = LogisticRegression(solver='liblinear')\n",
        "logreg.fit(X_lr_train, y_lr_train)"
      ],
      "execution_count": 40,
      "outputs": [
        {
          "output_type": "execute_result",
          "data": {
            "text/plain": [
              "LogisticRegression(C=1.0, class_weight=None, dual=False, fit_intercept=True,\n",
              "                   intercept_scaling=1, l1_ratio=None, max_iter=100,\n",
              "                   multi_class='auto', n_jobs=None, penalty='l2',\n",
              "                   random_state=None, solver='liblinear', tol=0.0001, verbose=0,\n",
              "                   warm_start=False)"
            ]
          },
          "metadata": {},
          "execution_count": 40
        }
      ]
    },
    {
      "cell_type": "code",
      "metadata": {
        "id": "3MpErHOFBimX"
      },
      "source": [
        "# make class predictions for the testing set\n",
        "y_pred_log_reg = logreg.predict(X_lr_test)"
      ],
      "execution_count": 41,
      "outputs": []
    },
    {
      "cell_type": "markdown",
      "metadata": {
        "id": "_OPe8p2yKxvD"
      },
      "source": [
        "Find accuracy of logistic regression"
      ]
    },
    {
      "cell_type": "code",
      "metadata": {
        "colab": {
          "base_uri": "https://localhost:8080/"
        },
        "id": "zBhSkQyOKr4r",
        "outputId": "d07fea69-4380-4a99-8ffb-a9ae7c2fdda5"
      },
      "source": [
        "# calculate logistic regression accuracy\n",
        "from sklearn import metrics\n",
        "print(metrics.accuracy_score(y_lr_test, y_pred_log_reg))"
      ],
      "execution_count": 42,
      "outputs": [
        {
          "output_type": "stream",
          "name": "stdout",
          "text": [
            "0.8194946535256288\n"
          ]
        }
      ]
    },
    {
      "cell_type": "code",
      "metadata": {
        "id": "ls4l3k_v8J7m"
      },
      "source": [
        "# define X and y\n",
        "X_dt = data[['url']]\n",
        "y_dt = data['label']"
      ],
      "execution_count": 25,
      "outputs": []
    },
    {
      "cell_type": "code",
      "metadata": {
        "id": "PRRwcv9kTn8d"
      },
      "source": [
        "# Split dataset into training set and test set for decision tree\n",
        "X_dt_train, X_dt_test, y_dt_train, y_dt_test = train_test_split(X_dt, y_dt, test_size=0.3, random_state=1)"
      ],
      "execution_count": 43,
      "outputs": []
    },
    {
      "cell_type": "code",
      "metadata": {
        "id": "ufRK_uQETsYh"
      },
      "source": [
        "from sklearn.tree import DecisionTreeClassifier\n",
        "# Create Decision Tree classifer object\n",
        "clf = DecisionTreeClassifier()\n",
        "# Train Decision Tree Classifer\n",
        "clf = clf.fit(X_train,y_train)\n",
        "#Predict the response for test dataset\n",
        "y_pred_dt = clf.predict(X_dt_test)"
      ],
      "execution_count": 46,
      "outputs": []
    },
    {
      "cell_type": "markdown",
      "metadata": {
        "id": "a40WhadvVczs"
      },
      "source": [
        "Find accuracy of decision tree"
      ]
    },
    {
      "cell_type": "code",
      "metadata": {
        "colab": {
          "base_uri": "https://localhost:8080/"
        },
        "id": "DoJpPbQwT0eq",
        "outputId": "78ed7b74-c09f-4464-9f6d-cd8ea0bdbbac"
      },
      "source": [
        "# calculate decision tree accuracy\n",
        "from sklearn import metrics\n",
        "print(metrics.accuracy_score(y_dt_test, y_pred_dt))"
      ],
      "execution_count": 47,
      "outputs": [
        {
          "output_type": "stream",
          "name": "stdout",
          "text": [
            "0.9725622324401458\n"
          ]
        }
      ]
    },
    {
      "cell_type": "code",
      "metadata": {
        "id": "ckCDNoce8p8C"
      },
      "source": [
        "# define X and y\n",
        "X_kn = data[['url']]\n",
        "y_kn = data['label']"
      ],
      "execution_count": 29,
      "outputs": []
    },
    {
      "cell_type": "code",
      "metadata": {
        "id": "KdFXQuo28y7z"
      },
      "source": [
        "# Split dataset into training set and test set for kneighbors\n",
        "X_kn_train, X_kn_test, y_kn_train, y_kn_test = train_test_split(X_kn, y_kn, test_size=0.3, random_state=1)"
      ],
      "execution_count": 48,
      "outputs": []
    },
    {
      "cell_type": "code",
      "metadata": {
        "id": "2LLQXRMgVS0b"
      },
      "source": [
        "from sklearn.neighbors import KNeighborsClassifier\n",
        "\n",
        "kmodel = KNeighborsClassifier(n_neighbors=3)\n",
        "\n",
        "# Train the model using the training sets\n",
        "kmodel = kmodel.fit(X_train,y_train)\n",
        "\n",
        "#Predict Output\n",
        "y_pred_kmodel = kmodel.predict(X_kn_test)"
      ],
      "execution_count": 31,
      "outputs": []
    },
    {
      "cell_type": "code",
      "metadata": {
        "colab": {
          "base_uri": "https://localhost:8080/"
        },
        "id": "9zq3GuHNWSdp",
        "outputId": "75b9b7fd-0990-4cc5-f9d9-1496ae676e4b"
      },
      "source": [
        "# calculate kmodel accuracy\n",
        "from sklearn import metrics\n",
        "print(metrics.accuracy_score(y_kn_test, y_pred_kmodel))"
      ],
      "execution_count": 49,
      "outputs": [
        {
          "output_type": "stream",
          "name": "stdout",
          "text": [
            "0.9068733153638814\n"
          ]
        }
      ]
    },
    {
      "cell_type": "code",
      "metadata": {
        "id": "HywTXQ0l895Z"
      },
      "source": [
        "# define X and y\n",
        "X_rf = data[['url']]\n",
        "y_rf = data['label']"
      ],
      "execution_count": 50,
      "outputs": []
    },
    {
      "cell_type": "code",
      "metadata": {
        "id": "zDQCrTO9XBaT"
      },
      "source": [
        "# Split dataset into training set and test set for random forest\n",
        "X_rf_train, X_rf_test, y_rf_train, y_rf_test = train_test_split(X_rf, y_rf, test_size=0.3)"
      ],
      "execution_count": 52,
      "outputs": []
    },
    {
      "cell_type": "code",
      "metadata": {
        "id": "LZaeYv-qYErO"
      },
      "source": [
        "#Import Random Forest Model\n",
        "from sklearn.ensemble import RandomForestClassifier\n",
        "\n",
        "#Create a Gaussian Classifier\n",
        "\n",
        "clf=RandomForestClassifier(n_estimators=100)\n",
        "\n",
        "#Train the model using the training sets y_pred=clf.predict(X_test)\n",
        "clf.fit(X_train,y_train)\n",
        "\n",
        "y_pred_rand_for = clf.predict(X_rf_test)"
      ],
      "execution_count": 53,
      "outputs": []
    },
    {
      "cell_type": "code",
      "metadata": {
        "colab": {
          "base_uri": "https://localhost:8080/"
        },
        "id": "R7HIin8wYQzP",
        "outputId": "74402c83-d227-4106-dc91-a1d4a17096df"
      },
      "source": [
        "# calculate random forest  accuracy\n",
        "from sklearn import metrics\n",
        "print(metrics.accuracy_score(y_rf_test, y_pred_rand_for))"
      ],
      "execution_count": 54,
      "outputs": [
        {
          "output_type": "stream",
          "name": "stdout",
          "text": [
            "0.9720548596797209\n"
          ]
        }
      ]
    },
    {
      "cell_type": "markdown",
      "metadata": {
        "id": "NquOPxJH7qVH"
      },
      "source": [
        "Null accuracy test for all models. This is the accuracy that could be achieved by always predicting the most frequent class. "
      ]
    },
    {
      "cell_type": "code",
      "metadata": {
        "colab": {
          "base_uri": "https://localhost:8080/"
        },
        "id": "HntAIIP4Yxkz",
        "outputId": "53f0a39f-382e-41eb-834d-aa4ea5d5c9d0"
      },
      "source": [
        "# examine the class distribution of the testing set for logistic regression\n",
        "y_lr_test.value_counts()"
      ],
      "execution_count": 58,
      "outputs": [
        {
          "output_type": "execute_result",
          "data": {
            "text/plain": [
              "1    86142\n",
              "0    18974\n",
              "Name: label, dtype: int64"
            ]
          },
          "metadata": {},
          "execution_count": 58
        }
      ]
    },
    {
      "cell_type": "code",
      "metadata": {
        "colab": {
          "base_uri": "https://localhost:8080/"
        },
        "id": "naZDCR5FBZ03",
        "outputId": "9789795d-40f1-413c-a0a3-f56df3e51aba"
      },
      "source": [
        "# examine the class distribution of the testing set for decision tree\n",
        "y_dt_test.value_counts()"
      ],
      "execution_count": 59,
      "outputs": [
        {
          "output_type": "execute_result",
          "data": {
            "text/plain": [
              "1    103362\n",
              "0     22778\n",
              "Name: label, dtype: int64"
            ]
          },
          "metadata": {},
          "execution_count": 59
        }
      ]
    },
    {
      "cell_type": "code",
      "metadata": {
        "colab": {
          "base_uri": "https://localhost:8080/"
        },
        "id": "RWq74sjHCfbO",
        "outputId": "0141ab07-2157-4e69-fef8-8e745325ca5d"
      },
      "source": [
        "# examine the class distribution of the testing set for knearest\n",
        "y_kn_test.value_counts()"
      ],
      "execution_count": 60,
      "outputs": [
        {
          "output_type": "execute_result",
          "data": {
            "text/plain": [
              "1    103362\n",
              "0     22778\n",
              "Name: label, dtype: int64"
            ]
          },
          "metadata": {},
          "execution_count": 60
        }
      ]
    },
    {
      "cell_type": "code",
      "metadata": {
        "colab": {
          "base_uri": "https://localhost:8080/"
        },
        "id": "aNq5d8LGCwbm",
        "outputId": "f839f0bb-db20-4c4b-c0a8-214631a7a858"
      },
      "source": [
        "# examine the class distribution of the testing set for random forest\n",
        "y_rf_test.value_counts()"
      ],
      "execution_count": 61,
      "outputs": [
        {
          "output_type": "execute_result",
          "data": {
            "text/plain": [
              "1    103599\n",
              "0     22541\n",
              "Name: label, dtype: int64"
            ]
          },
          "metadata": {},
          "execution_count": 61
        }
      ]
    },
    {
      "cell_type": "markdown",
      "metadata": {
        "id": "0BIGa3mcDTAe"
      },
      "source": [
        "Calculate percent of 1s in the models"
      ]
    },
    {
      "cell_type": "code",
      "metadata": {
        "colab": {
          "base_uri": "https://localhost:8080/"
        },
        "id": "DQAdUgnHDAxs",
        "outputId": "29d3b1c6-e566-4ed2-d1f7-9d088d7576a7"
      },
      "source": [
        "# calculate the percentage of ones in logistic regression\n",
        "y_lr_test.mean()"
      ],
      "execution_count": 62,
      "outputs": [
        {
          "output_type": "execute_result",
          "data": {
            "text/plain": [
              "0.8194946535256288"
            ]
          },
          "metadata": {},
          "execution_count": 62
        }
      ]
    },
    {
      "cell_type": "code",
      "metadata": {
        "colab": {
          "base_uri": "https://localhost:8080/"
        },
        "id": "YkVCfh-MDb3x",
        "outputId": "9e29eb8e-4aa8-4ec9-d160-22315268a568"
      },
      "source": [
        "# calculate the percentage of ones in decision tree\n",
        "y_dt_test.mean()"
      ],
      "execution_count": 63,
      "outputs": [
        {
          "output_type": "execute_result",
          "data": {
            "text/plain": [
              "0.8194228634850167"
            ]
          },
          "metadata": {},
          "execution_count": 63
        }
      ]
    },
    {
      "cell_type": "code",
      "metadata": {
        "colab": {
          "base_uri": "https://localhost:8080/"
        },
        "id": "SyKvYKk9DiSi",
        "outputId": "65db5e9a-f1ef-457d-cafc-937e7346d46f"
      },
      "source": [
        "# calculate the percentage of ones in k nearest neighbor\n",
        "y_kn_test.mean()"
      ],
      "execution_count": 64,
      "outputs": [
        {
          "output_type": "execute_result",
          "data": {
            "text/plain": [
              "0.8194228634850167"
            ]
          },
          "metadata": {},
          "execution_count": 64
        }
      ]
    },
    {
      "cell_type": "code",
      "metadata": {
        "colab": {
          "base_uri": "https://localhost:8080/"
        },
        "id": "QtidYsFSD_PU",
        "outputId": "fc662644-035e-47a3-9a8e-1e30ccf7c8b7"
      },
      "source": [
        "# calculate the percentage of ones in random forest\n",
        "y_rf_test.mean()"
      ],
      "execution_count": 65,
      "outputs": [
        {
          "output_type": "execute_result",
          "data": {
            "text/plain": [
              "0.8213017282384651"
            ]
          },
          "metadata": {},
          "execution_count": 65
        }
      ]
    },
    {
      "cell_type": "markdown",
      "metadata": {
        "id": "GLZ2xc3XESnE"
      },
      "source": [
        "Calculate Null Accuracy of Models"
      ]
    },
    {
      "cell_type": "code",
      "metadata": {
        "colab": {
          "base_uri": "https://localhost:8080/"
        },
        "id": "bcetOoTHEHcr",
        "outputId": "bb63081f-6be6-48b5-8634-1f00939ba0a9"
      },
      "source": [
        "# calculate null accuracy for logistic regression\n",
        "max(y_lr_test.mean(), 1 - y_lr_test.mean())"
      ],
      "execution_count": 66,
      "outputs": [
        {
          "output_type": "execute_result",
          "data": {
            "text/plain": [
              "0.8194946535256288"
            ]
          },
          "metadata": {},
          "execution_count": 66
        }
      ]
    },
    {
      "cell_type": "code",
      "metadata": {
        "colab": {
          "base_uri": "https://localhost:8080/"
        },
        "id": "R56fFjkoEeGg",
        "outputId": "0a9400e5-5e2c-4dbd-b4bb-5aaacde02d62"
      },
      "source": [
        "# calculate null accuracy for decision tree\n",
        "max(y_dt_test.mean(), 1 - y_dt_test.mean())"
      ],
      "execution_count": 67,
      "outputs": [
        {
          "output_type": "execute_result",
          "data": {
            "text/plain": [
              "0.8194228634850167"
            ]
          },
          "metadata": {},
          "execution_count": 67
        }
      ]
    },
    {
      "cell_type": "code",
      "metadata": {
        "colab": {
          "base_uri": "https://localhost:8080/"
        },
        "id": "Ea6MXc0PFf8x",
        "outputId": "e82d6f47-6ad2-4559-a2c2-aa8019849356"
      },
      "source": [
        "# calculate null accuracy for k nearest\n",
        "max(y_kn_test.mean(), 1 - y_kn_test.mean())"
      ],
      "execution_count": 68,
      "outputs": [
        {
          "output_type": "execute_result",
          "data": {
            "text/plain": [
              "0.8194228634850167"
            ]
          },
          "metadata": {},
          "execution_count": 68
        }
      ]
    },
    {
      "cell_type": "code",
      "metadata": {
        "colab": {
          "base_uri": "https://localhost:8080/"
        },
        "id": "SG0y4DsxF9h7",
        "outputId": "4c581f08-4083-48e1-bcaf-ea92aed901b2"
      },
      "source": [
        "# calculate null accuracy for random forest\n",
        "max(y_rf_test.mean(), 1 - y_rf_test.mean())"
      ],
      "execution_count": 69,
      "outputs": [
        {
          "output_type": "execute_result",
          "data": {
            "text/plain": [
              "0.8213017282384651"
            ]
          },
          "metadata": {},
          "execution_count": 69
        }
      ]
    },
    {
      "cell_type": "code",
      "metadata": {
        "id": "Oq1fN7VRGHxy"
      },
      "source": [
        ""
      ],
      "execution_count": null,
      "outputs": []
    }
  ]
}